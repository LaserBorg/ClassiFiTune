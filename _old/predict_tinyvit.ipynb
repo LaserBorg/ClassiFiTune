{
 "cells": [
  {
   "cell_type": "markdown",
   "id": "1c4f67cf",
   "metadata": {},
   "source": [
    "# TinyViT\n",
    "\n",
    "- 22k classes\n",
    "- highres support\n",
    "\n",
    "variants: {5,11,21}m_{1,22}k_{224,384,512}"
   ]
  },
  {
   "cell_type": "code",
   "execution_count": null,
   "id": "1e9854ba",
   "metadata": {},
   "outputs": [],
   "source": [
    "# ignore UserWarning: Overwriting tiny_vit_5m_224 in registry with models.tiny_vit.tiny_vit_5m_224\n",
    "import warnings\n",
    "warnings.filterwarnings(\"ignore\", category=UserWarning, module=\"libs.tiny_vit.tiny_vit\")\n",
    "\n",
    "from PIL import Image\n",
    "\n",
    "from libs.common import get_random_image, imshow_notebook\n",
    "from libs.tiny_vit.tiny_vit_inference import TinyViTInference\n",
    "\n",
    "\n",
    "# get a random image from the validation set\n",
    "image_path = get_random_image('dataset/test/ants', seed=13)\n",
    "img = Image.open(image_path)"
   ]
  },
  {
   "cell_type": "markdown",
   "id": "3eff5308",
   "metadata": {},
   "source": [
    "## Pretrained Model"
   ]
  },
  {
   "cell_type": "code",
   "execution_count": null,
   "id": "d482a7b1",
   "metadata": {},
   "outputs": [],
   "source": [
    "classifier_pretrained = TinyViTInference(variant=\"21m_22k_384\", device=\"cuda\")\n",
    "\n",
    "# prediction\n",
    "scores_np, inds_np = classifier_pretrained.predict(img, topk=5, print_results=False)\n",
    "\n",
    "# [0] classnames might contain more than one string\n",
    "predicted_label = classifier_pretrained.classnames[str(inds_np[0])][0]\n",
    "probability = scores_np[0]\n",
    "\n",
    "imshow_notebook(f'{predicted_label} ({probability:.2f})', img)"
   ]
  },
  {
   "cell_type": "markdown",
   "id": "64501995",
   "metadata": {},
   "source": [
    "## Finetuned Model"
   ]
  },
  {
   "cell_type": "code",
   "execution_count": null,
   "id": "8c2621e0",
   "metadata": {},
   "outputs": [],
   "source": [
    "# Load finetuned model using metadata file\n",
    "classifier_finetuned = TinyViTInference(metadata_path=\"output/tinyvit_21m_384_finetuned_metadata.json\", device=\"cuda\")\n",
    "\n",
    "print(f\"finetuned classes: {[labels[0] for labels in classifier_finetuned.classnames.values()]}\")\n",
    "\n",
    "# prediction\n",
    "scores_np_ft, inds_np_ft = classifier_finetuned.predict(img, topk=3, print_results=False)\n",
    "\n",
    "# [0] classnames might contain more than one string\n",
    "predicted_label = classifier_finetuned.classnames[str(inds_np_ft[0])][0]\n",
    "probability = scores_np_ft[0]\n",
    "\n",
    "imshow_notebook(f'{predicted_label} ({probability:.2f})', img)"
   ]
  }
 ],
 "metadata": {
  "kernelspec": {
   "display_name": "py313",
   "language": "python",
   "name": "python3"
  },
  "language_info": {
   "codemirror_mode": {
    "name": "ipython",
    "version": 3
   },
   "file_extension": ".py",
   "mimetype": "text/x-python",
   "name": "python",
   "nbconvert_exporter": "python",
   "pygments_lexer": "ipython3",
   "version": "3.13.7"
  }
 },
 "nbformat": 4,
 "nbformat_minor": 5
}
