{
 "cells": [
  {
   "cell_type": "markdown",
   "id": "80b59294",
   "metadata": {},
   "source": [
    "# PyTorch and ONNX Prediction"
   ]
  },
  {
   "cell_type": "markdown",
   "id": "a81db3bc",
   "metadata": {},
   "source": [
    "### common functions"
   ]
  },
  {
   "cell_type": "code",
   "execution_count": null,
   "id": "3f8df6d0",
   "metadata": {},
   "outputs": [],
   "source": [
    "import os\n",
    "from PIL import Image\n",
    "import torch\n",
    "from torchvision import transforms\n",
    "import numpy as np\n",
    "from timm.data.constants import IMAGENET_DEFAULT_MEAN, IMAGENET_DEFAULT_STD\n",
    "\n",
    "from libs.common import load_dict, img_to_tensor, ensure_tuple, get_random_image, imshow_notebook\n",
    "\n",
    "\n",
    "settings_path = 'settings_torchvision.yaml'\n",
    "settings = load_dict(settings_path)\n",
    "\n",
    "input_size = ensure_tuple(settings['input_size'], length=2, dtype=int)\n",
    "output_dir = settings['output_dir']\n",
    "model_type = settings['model_type']\n",
    "model_name = model_type\n",
    "output_path = os.path.join(output_dir, model_name + \".pth\")\n",
    "json_path = os.path.join(output_dir, model_name + \"_metadata.json\")\n",
    "split_data_dir = settings.get('split_data_dir', None)\n",
    "mean = np.array(settings['mean'])\n",
    "std = np.array(settings['std'])\n",
    "\n",
    "# create data loader for test-data\n",
    "test_transform = transforms.Compose([\n",
    "    transforms.Resize(input_size),\n",
    "    transforms.CenterCrop(input_size),\n",
    "    transforms.ToTensor(),\n",
    "    transforms.Normalize(mean, std)])\n",
    "\n",
    "# get a random image from the validation set\n",
    "image_path = get_random_image('dataset/test/ants', seed=13)\n",
    "img = Image.open(image_path)\n",
    "\n",
    "# load class labels from metadata.json\n",
    "class_labels = load_dict(json_path)[\"class_labels\"]\n"
   ]
  },
  {
   "cell_type": "markdown",
   "id": "e6587400",
   "metadata": {},
   "source": [
    "# Pytorch prediction"
   ]
  },
  {
   "cell_type": "code",
   "execution_count": null,
   "id": "401ede13",
   "metadata": {},
   "outputs": [],
   "source": [
    "device = torch.device(\"cpu\")  # (\"cuda:0\" if torch.cuda.is_available() else \"cpu\")\n",
    "\n",
    "def torch_predict(model, image, class_labels):\n",
    "    with torch.no_grad():  # Disable gradient calculation\n",
    "        outputs = model(image)\n",
    "        \n",
    "        # Get the predicted class and probability\n",
    "        probabilities = torch.nn.functional.softmax(outputs, dim=1)\n",
    "        top_prob, top_class = probabilities.topk(1, dim=1)\n",
    "        \n",
    "        # Get the predicted class name and probability\n",
    "        class_label = class_labels[top_class[0][0]]\n",
    "        probability = top_prob[0][0].item()\n",
    "    return class_label, probability\n",
    "\n",
    "\n",
    "image_tensor = img_to_tensor(img, transform=test_transform, device=device)\n",
    "\n",
    "model = torch.load(output_path, weights_only=False)\n",
    "model = model.to(device)\n",
    "model.eval()\n",
    "\n",
    "predicted_label, probability = torch_predict(model, image_tensor, class_labels)\n",
    "\n",
    "print(f'Predicted: {predicted_label} ({probability:.2f})')\n",
    "imshow_notebook(f'{predicted_label} ({probability:.2f})', image_tensor)"
   ]
  },
  {
   "cell_type": "markdown",
   "id": "ea6bf0f0",
   "metadata": {},
   "source": [
    "# ONNX prediction"
   ]
  },
  {
   "cell_type": "code",
   "execution_count": null,
   "id": "24db5317",
   "metadata": {},
   "outputs": [],
   "source": [
    "import onnxruntime as ort\n",
    "import torch.nn.functional as F\n",
    "\n",
    "\n",
    "# Load the ONNX model\n",
    "onnx_path = os.path.join(output_dir, model_name + \".onnx\")\n",
    "ort_session = ort.InferenceSession(onnx_path)\n",
    "\n",
    "\n",
    "# Preprocess the input image\n",
    "def load_onnx_tensor(image_path):\n",
    "    image = Image.open(image_path)\n",
    "    image_tensor = test_transform(image)\n",
    "    image_tensor = image_tensor.unsqueeze(0)\n",
    "    return image_tensor\n",
    "\n",
    "\n",
    "# Run inference\n",
    "def onnx_predict(input_batch):\n",
    "    ort_inputs = {ort_session.get_inputs()[0].name: input_batch}\n",
    "    ort_outs = ort_session.run(None, ort_inputs)\n",
    "\n",
    "    # Convert logits to probabilities\n",
    "    logits = ort_outs[0]\n",
    "    probabilities = F.softmax(torch.tensor(logits), dim=1).numpy()\n",
    "    \n",
    "    # Get the top predicted class\n",
    "    top_class_idx = np.argmax(probabilities, axis=1)[0]\n",
    "    top_class_label = class_labels[top_class_idx]\n",
    "    top_class_prob = probabilities[0][top_class_idx]\n",
    "    \n",
    "    return top_class_label, top_class_prob\n",
    "\n",
    "\n",
    "image_tensor = load_onnx_tensor(image_path)\n",
    "predicted_label, probability = onnx_predict(image_tensor.numpy())\n",
    "\n",
    "print(f\"Predicted: {predicted_label} ({probability:.2f})\")\n",
    "imshow_notebook(f'{predicted_label} ({probability:.2f})', image_tensor)"
   ]
  },
  {
   "cell_type": "code",
   "execution_count": null,
   "id": "d09d3145",
   "metadata": {},
   "outputs": [],
   "source": []
  }
 ],
 "metadata": {
  "kernelspec": {
   "display_name": "py313",
   "language": "python",
   "name": "python3"
  },
  "language_info": {
   "codemirror_mode": {
    "name": "ipython",
    "version": 3
   },
   "file_extension": ".py",
   "mimetype": "text/x-python",
   "name": "python",
   "nbconvert_exporter": "python",
   "pygments_lexer": "ipython3",
   "version": "3.13.7"
  }
 },
 "nbformat": 4,
 "nbformat_minor": 5
}
